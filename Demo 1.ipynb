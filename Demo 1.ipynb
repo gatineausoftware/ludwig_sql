{
 "cells": [
  {
   "cell_type": "code",
   "execution_count": 41,
   "metadata": {},
   "outputs": [],
   "source": [
    "\n",
    "import sqlalchemy as db\n",
    "import pandas as pd\n",
    "import numpy as np\n",
    "from datetime import datetime, timedelta\n",
    "from pytz import timezone, utc\n",
    "from new_api import (add_entity, create_new_entity_set, add_aggregation_features, get_training_df, get_prediction_df, \n",
    "add_entity_df, list_features, generate_base_model_definition)\n",
    "from ludwig.api import LudwigModel\n"
   ]
  },
  {
   "cell_type": "code",
   "execution_count": 42,
   "metadata": {},
   "outputs": [],
   "source": [
    "agent_entity = {\"name\": \"agent\", \"table\": \"agent\", \"type\": \"primary\", \"index\": \"agent_id\", \"time\": {\"field\": \"effective_date\", \"type\": \"effective_date\"}}\n",
    "add_entity(agent_entity)\n",
    "\n",
    "\n",
    "acxiom_entity = {\"name\": \"acxiom\", \"table\": \"agent_acxiom\", \"type\": \"primary\", \"index\": \"agent_id\", \"time\": {\"field\": \"date\", \"type\": \"effective_date\"}}\n",
    "add_entity(acxiom_entity)\n",
    "\n",
    "\n",
    "comission_events = {\"name\": \"agent_commission\", \"table\": \"agent_sales\", \"type\": \"event\", 'index': \"id\", \"time\": {\"field\": \"date\", \"type\": \"event\"}}\n",
    "add_entity(comission_events)\n",
    "\n"
   ]
  },
  {
   "cell_type": "code",
   "execution_count": 43,
   "metadata": {},
   "outputs": [],
   "source": [
    "relationships =  [\n",
    "            (\"one_to_one\", {\"name\": \"agent\", \"index\": \"agent_id\"}, {\"name\": \"acxiom\", \"index\": \"agent_id\"}),\n",
    "            (\"one_to_many\", {\"name\": \"agent\", \"index\": \"agent_id\"}, {\"name\": \"agent_commission\",  \"index\": \"agent_id\"})\n",
    "                ]\n",
    "\n",
    "\n",
    "create_new_entity_set(name=\"nyl_agents\", entities=[\"agent\", \"acxiom\", \"agent_commission\"], relationships=relationships)\n"
   ]
  },
  {
   "cell_type": "code",
   "execution_count": 44,
   "metadata": {},
   "outputs": [],
   "source": [
    "agent_commission_agg_features = {\"total_sales\": {\"feature\": \"amount\",\"function\":\"sum\", \"name\": \"total_sales\", \"time_window\": \"full_history\"},\n",
    "                             \"max_sales\":  {\"feature\": \"amount\", \"function\":\"max\", \"name\": \"max_sales\", \"time_window\": \"full_history\"},\n",
    "                             \"total_num_sales\":   {\"feature\": \"id\", \"function\": \"count\", \"name\": \"total_num_sales\", \"time_window\": \"full_history\"}\n",
    "                            }\n",
    "add_aggregation_features(\"agent_commission\", agent_commission_agg_features)\n"
   ]
  },
  {
   "cell_type": "code",
   "execution_count": 36,
   "metadata": {},
   "outputs": [
    {
     "data": {
      "text/plain": [
       "{'agent': {'raw_features': ['index',\n",
       "   'effective_date',\n",
       "   'agent_id',\n",
       "   'feature_1',\n",
       "   'feature_2',\n",
       "   'feature_3',\n",
       "   'feature_4',\n",
       "   'feature_5',\n",
       "   'feature_6',\n",
       "   'feature_7',\n",
       "   'feature_8']},\n",
       " 'acxiom': {'raw_features': ['index',\n",
       "   'date',\n",
       "   'agent_id',\n",
       "   'zipcode',\n",
       "   'num_household']},\n",
       " 'agent_commission': {'raw_features': ['index',\n",
       "   'id',\n",
       "   'date',\n",
       "   'agent_id',\n",
       "   'amount',\n",
       "   'feature_2',\n",
       "   'feature_3'],\n",
       "  'calulated_features': ['total_sales', 'max_sales', 'total_num_sales']}}"
      ]
     },
     "execution_count": 36,
     "metadata": {},
     "output_type": "execute_result"
    }
   ],
   "source": [
    "available_features = list_features(\"nyl_agents\")\n",
    "available_features"
   ]
  },
  {
   "cell_type": "code",
   "execution_count": 45,
   "metadata": {},
   "outputs": [],
   "source": [
    "days = [datetime.utcnow().replace(hour=0, minute=0, second=0, microsecond=0).replace(tzinfo=utc) \\\n",
    "        - timedelta(day * 365) for day in range(2)][::-1]\n",
    "\n",
    "agents = [1001, 1002, 1003, 1004, 1005]\n",
    "\n",
    "\n",
    "df = pd.DataFrame(\n",
    "    {\n",
    "        \"observation_time\": [day for day in days for customer in agents],\n",
    "        \"agent_id\": [customer for day in days for customer in agents],\n",
    "        \"prediction\": [np.random.rand()  for _ in range(len(days) * len(agents))],\n",
    "\n",
    "    }\n",
    ")\n",
    "\n",
    "\n",
    "eol = {\"pk\": \"agent_id\", \"observation_date\": \"observation_time\", \"label\": \"prediction\"}"
   ]
  },
  {
   "cell_type": "code",
   "execution_count": 46,
   "metadata": {},
   "outputs": [
    {
     "name": "stdout",
     "output_type": "stream",
     "text": [
      "(builtins.AttributeError) 'NoneType' object has no attribute 'cursor'\n",
      "[SQL: DESCRIBE `nyl_agents_eol`]\n"
     ]
    },
    {
     "ename": "StatementError",
     "evalue": "(builtins.AttributeError) 'NoneType' object has no attribute 'cursor'\n[SQL: select nyl_agents_eol.agent_id, nyl_agents_eol.observation_time, nyl_agents_eol.prediction, agent1.feature_1, agent1.feature_2, agent1.feature_6, agent_acxiom1.zipcode, agent_acxiom1.num_household , agent_salestotal_sales1.total_sales , agent_salesmax_sales1.max_sales from nyl_agents_eol  left join agent agent1 on nyl_agents_eol.agent_id = agent1.agent_id and           agent1.effective_date = (select max(effective_date) from agent agent2 where agent2.agent_id = nyl_agents_eol.agent_id and agent2.effective_date <= nyl_agents_eol.observation_time) left join agent_acxiom agent_acxiom1 on nyl_agents_eol.agent_id = agent_acxiom1.agent_id and           agent_acxiom1.date = (select max(date) from agent_acxiom agent_acxiom2 where agent_acxiom2.agent_id = nyl_agents_eol.agent_id and agent_acxiom2.date <= nyl_agents_eol.observation_time) left join (select nyl_agents_eol.agent_id, nyl_agents_eol.observation_time, sum(agent_sales.amount) as total_sales from                   nyl_agents_eol join agent_sales on nyl_agents_eol.agent_id = agent_sales.agent_id and nyl_agents_eol.observation_time >= agent_sales.date group by                   nyl_agents_eol.agent_id, nyl_agents_eol.observation_time ) agent_salestotal_sales1 on                   nyl_agents_eol.agent_id = agent_salestotal_sales1.agent_id and nyl_agents_eol.observation_time = agent_salestotal_sales1.observation_time left join (select nyl_agents_eol.agent_id, nyl_agents_eol.observation_time, max(agent_sales.amount) as max_sales from                   nyl_agents_eol join agent_sales on nyl_agents_eol.agent_id = agent_sales.agent_id and nyl_agents_eol.observation_time >= agent_sales.date group by                   nyl_agents_eol.agent_id, nyl_agents_eol.observation_time ) agent_salesmax_sales1 on                   nyl_agents_eol.agent_id = agent_salesmax_sales1.agent_id and nyl_agents_eol.observation_time = agent_salesmax_sales1.observation_time]",
     "output_type": "error",
     "traceback": [
      "\u001b[0;31m---------------------------------------------------------------------------\u001b[0m",
      "\u001b[0;31mAttributeError\u001b[0m                            Traceback (most recent call last)",
      "\u001b[0;32m~/projects/feature_store/venv/lib/python3.7/site-packages/sqlalchemy/engine/base.py\u001b[0m in \u001b[0;36m_execute_context\u001b[0;34m(self, dialect, constructor, statement, parameters, *args)\u001b[0m\n\u001b[1;32m   1174\u001b[0m \u001b[0;34m\u001b[0m\u001b[0m\n\u001b[0;32m-> 1175\u001b[0;31m             \u001b[0mcontext\u001b[0m \u001b[0;34m=\u001b[0m \u001b[0mconstructor\u001b[0m\u001b[0;34m(\u001b[0m\u001b[0mdialect\u001b[0m\u001b[0;34m,\u001b[0m \u001b[0mself\u001b[0m\u001b[0;34m,\u001b[0m \u001b[0mconn\u001b[0m\u001b[0;34m,\u001b[0m \u001b[0;34m*\u001b[0m\u001b[0margs\u001b[0m\u001b[0;34m)\u001b[0m\u001b[0;34m\u001b[0m\u001b[0;34m\u001b[0m\u001b[0m\n\u001b[0m\u001b[1;32m   1176\u001b[0m         \u001b[0;32mexcept\u001b[0m \u001b[0mBaseException\u001b[0m \u001b[0;32mas\u001b[0m \u001b[0me\u001b[0m\u001b[0;34m:\u001b[0m\u001b[0;34m\u001b[0m\u001b[0;34m\u001b[0m\u001b[0m\n",
      "\u001b[0;32m~/projects/feature_store/venv/lib/python3.7/site-packages/sqlalchemy/engine/default.py\u001b[0m in \u001b[0;36m_init_statement\u001b[0;34m(cls, dialect, connection, dbapi_connection, statement, parameters)\u001b[0m\n\u001b[1;32m   1025\u001b[0m \u001b[0;34m\u001b[0m\u001b[0m\n\u001b[0;32m-> 1026\u001b[0;31m         \u001b[0mself\u001b[0m\u001b[0;34m.\u001b[0m\u001b[0mcursor\u001b[0m \u001b[0;34m=\u001b[0m \u001b[0mself\u001b[0m\u001b[0;34m.\u001b[0m\u001b[0mcreate_cursor\u001b[0m\u001b[0;34m(\u001b[0m\u001b[0;34m)\u001b[0m\u001b[0;34m\u001b[0m\u001b[0;34m\u001b[0m\u001b[0m\n\u001b[0m\u001b[1;32m   1027\u001b[0m         \u001b[0;32mreturn\u001b[0m \u001b[0mself\u001b[0m\u001b[0;34m\u001b[0m\u001b[0;34m\u001b[0m\u001b[0m\n",
      "\u001b[0;32m~/projects/feature_store/venv/lib/python3.7/site-packages/sqlalchemy/engine/default.py\u001b[0m in \u001b[0;36mcreate_cursor\u001b[0;34m(self)\u001b[0m\n\u001b[1;32m   1158\u001b[0m             \u001b[0mself\u001b[0m\u001b[0;34m.\u001b[0m\u001b[0m_is_server_side\u001b[0m \u001b[0;34m=\u001b[0m \u001b[0;32mFalse\u001b[0m\u001b[0;34m\u001b[0m\u001b[0;34m\u001b[0m\u001b[0m\n\u001b[0;32m-> 1159\u001b[0;31m             \u001b[0;32mreturn\u001b[0m \u001b[0mself\u001b[0m\u001b[0;34m.\u001b[0m\u001b[0m_dbapi_connection\u001b[0m\u001b[0;34m.\u001b[0m\u001b[0mcursor\u001b[0m\u001b[0;34m(\u001b[0m\u001b[0;34m)\u001b[0m\u001b[0;34m\u001b[0m\u001b[0;34m\u001b[0m\u001b[0m\n\u001b[0m\u001b[1;32m   1160\u001b[0m \u001b[0;34m\u001b[0m\u001b[0m\n",
      "\u001b[0;32m~/projects/feature_store/venv/lib/python3.7/site-packages/sqlalchemy/pool/base.py\u001b[0m in \u001b[0;36mcursor\u001b[0;34m(self, *args, **kwargs)\u001b[0m\n\u001b[1;32m    977\u001b[0m         \"\"\"\n\u001b[0;32m--> 978\u001b[0;31m         \u001b[0;32mreturn\u001b[0m \u001b[0mself\u001b[0m\u001b[0;34m.\u001b[0m\u001b[0mconnection\u001b[0m\u001b[0;34m.\u001b[0m\u001b[0mcursor\u001b[0m\u001b[0;34m(\u001b[0m\u001b[0;34m*\u001b[0m\u001b[0margs\u001b[0m\u001b[0;34m,\u001b[0m \u001b[0;34m**\u001b[0m\u001b[0mkwargs\u001b[0m\u001b[0;34m)\u001b[0m\u001b[0;34m\u001b[0m\u001b[0;34m\u001b[0m\u001b[0m\n\u001b[0m\u001b[1;32m    979\u001b[0m \u001b[0;34m\u001b[0m\u001b[0m\n",
      "\u001b[0;31mAttributeError\u001b[0m: 'NoneType' object has no attribute 'cursor'",
      "\nThe above exception was the direct cause of the following exception:\n",
      "\u001b[0;31mStatementError\u001b[0m                            Traceback (most recent call last)",
      "\u001b[0;32m<ipython-input-46-c52cb2d2a9fb>\u001b[0m in \u001b[0;36m<module>\u001b[0;34m\u001b[0m\n\u001b[1;32m     10\u001b[0m \u001b[0;34m\u001b[0m\u001b[0m\n\u001b[1;32m     11\u001b[0m             }\n\u001b[0;32m---> 12\u001b[0;31m \u001b[0mtraining_df\u001b[0m \u001b[0;34m=\u001b[0m \u001b[0mget_training_df\u001b[0m\u001b[0;34m(\u001b[0m\u001b[0mfeatures\u001b[0m\u001b[0;34m)\u001b[0m\u001b[0;34m\u001b[0m\u001b[0;34m\u001b[0m\u001b[0m\n\u001b[0m\u001b[1;32m     13\u001b[0m \u001b[0mtraining_df\u001b[0m\u001b[0;34m\u001b[0m\u001b[0;34m\u001b[0m\u001b[0m\n",
      "\u001b[0;32m~/projects/ludwig_sql/new_api.py\u001b[0m in \u001b[0;36mget_training_df\u001b[0;34m(features)\u001b[0m\n\u001b[1;32m    197\u001b[0m \u001b[0;34m\u001b[0m\u001b[0m\n\u001b[1;32m    198\u001b[0m \u001b[0;34m\u001b[0m\u001b[0m\n\u001b[0;32m--> 199\u001b[0;31m     \u001b[0meol_tn\u001b[0m \u001b[0;34m=\u001b[0m \u001b[0meol\u001b[0m\u001b[0;34m[\u001b[0m\u001b[0;34m\"table\"\u001b[0m\u001b[0;34m]\u001b[0m\u001b[0;34m\u001b[0m\u001b[0;34m\u001b[0m\u001b[0m\n\u001b[0m\u001b[1;32m    200\u001b[0m     \u001b[0meol_pk\u001b[0m \u001b[0;34m=\u001b[0m \u001b[0meol\u001b[0m\u001b[0;34m[\u001b[0m\u001b[0;34m\"pk\"\u001b[0m\u001b[0;34m]\u001b[0m\u001b[0;34m\u001b[0m\u001b[0;34m\u001b[0m\u001b[0m\n\u001b[1;32m    201\u001b[0m     \u001b[0meol_od\u001b[0m \u001b[0;34m=\u001b[0m \u001b[0meol\u001b[0m\u001b[0;34m[\u001b[0m\u001b[0;34m\"observation_date\"\u001b[0m\u001b[0;34m]\u001b[0m\u001b[0;34m\u001b[0m\u001b[0;34m\u001b[0m\u001b[0m\n",
      "\u001b[0;32m~/projects/feature_store/venv/lib/python3.7/site-packages/pandas/io/sql.py\u001b[0m in \u001b[0;36mread_sql\u001b[0;34m(sql, con, index_col, coerce_float, params, parse_dates, columns, chunksize)\u001b[0m\n\u001b[1;32m    436\u001b[0m             \u001b[0mcoerce_float\u001b[0m\u001b[0;34m=\u001b[0m\u001b[0mcoerce_float\u001b[0m\u001b[0;34m,\u001b[0m\u001b[0;34m\u001b[0m\u001b[0;34m\u001b[0m\u001b[0m\n\u001b[1;32m    437\u001b[0m             \u001b[0mparse_dates\u001b[0m\u001b[0;34m=\u001b[0m\u001b[0mparse_dates\u001b[0m\u001b[0;34m,\u001b[0m\u001b[0;34m\u001b[0m\u001b[0;34m\u001b[0m\u001b[0m\n\u001b[0;32m--> 438\u001b[0;31m             \u001b[0mchunksize\u001b[0m\u001b[0;34m=\u001b[0m\u001b[0mchunksize\u001b[0m\u001b[0;34m,\u001b[0m\u001b[0;34m\u001b[0m\u001b[0;34m\u001b[0m\u001b[0m\n\u001b[0m\u001b[1;32m    439\u001b[0m         )\n\u001b[1;32m    440\u001b[0m \u001b[0;34m\u001b[0m\u001b[0m\n",
      "\u001b[0;32m~/projects/feature_store/venv/lib/python3.7/site-packages/pandas/io/sql.py\u001b[0m in \u001b[0;36mread_query\u001b[0;34m(self, sql, index_col, coerce_float, parse_dates, params, chunksize)\u001b[0m\n\u001b[1;32m   1216\u001b[0m         \u001b[0margs\u001b[0m \u001b[0;34m=\u001b[0m \u001b[0m_convert_params\u001b[0m\u001b[0;34m(\u001b[0m\u001b[0msql\u001b[0m\u001b[0;34m,\u001b[0m \u001b[0mparams\u001b[0m\u001b[0;34m)\u001b[0m\u001b[0;34m\u001b[0m\u001b[0;34m\u001b[0m\u001b[0m\n\u001b[1;32m   1217\u001b[0m \u001b[0;34m\u001b[0m\u001b[0m\n\u001b[0;32m-> 1218\u001b[0;31m         \u001b[0mresult\u001b[0m \u001b[0;34m=\u001b[0m \u001b[0mself\u001b[0m\u001b[0;34m.\u001b[0m\u001b[0mexecute\u001b[0m\u001b[0;34m(\u001b[0m\u001b[0;34m*\u001b[0m\u001b[0margs\u001b[0m\u001b[0;34m)\u001b[0m\u001b[0;34m\u001b[0m\u001b[0;34m\u001b[0m\u001b[0m\n\u001b[0m\u001b[1;32m   1219\u001b[0m         \u001b[0mcolumns\u001b[0m \u001b[0;34m=\u001b[0m \u001b[0mresult\u001b[0m\u001b[0;34m.\u001b[0m\u001b[0mkeys\u001b[0m\u001b[0;34m(\u001b[0m\u001b[0;34m)\u001b[0m\u001b[0;34m\u001b[0m\u001b[0;34m\u001b[0m\u001b[0m\n\u001b[1;32m   1220\u001b[0m \u001b[0;34m\u001b[0m\u001b[0m\n",
      "\u001b[0;32m~/projects/feature_store/venv/lib/python3.7/site-packages/pandas/io/sql.py\u001b[0m in \u001b[0;36mexecute\u001b[0;34m(self, *args, **kwargs)\u001b[0m\n\u001b[1;32m   1085\u001b[0m     \u001b[0;32mdef\u001b[0m \u001b[0mexecute\u001b[0m\u001b[0;34m(\u001b[0m\u001b[0mself\u001b[0m\u001b[0;34m,\u001b[0m \u001b[0;34m*\u001b[0m\u001b[0margs\u001b[0m\u001b[0;34m,\u001b[0m \u001b[0;34m**\u001b[0m\u001b[0mkwargs\u001b[0m\u001b[0;34m)\u001b[0m\u001b[0;34m:\u001b[0m\u001b[0;34m\u001b[0m\u001b[0;34m\u001b[0m\u001b[0m\n\u001b[1;32m   1086\u001b[0m         \u001b[0;34m\"\"\"Simple passthrough to SQLAlchemy connectable\"\"\"\u001b[0m\u001b[0;34m\u001b[0m\u001b[0;34m\u001b[0m\u001b[0m\n\u001b[0;32m-> 1087\u001b[0;31m         \u001b[0;32mreturn\u001b[0m \u001b[0mself\u001b[0m\u001b[0;34m.\u001b[0m\u001b[0mconnectable\u001b[0m\u001b[0;34m.\u001b[0m\u001b[0mexecute\u001b[0m\u001b[0;34m(\u001b[0m\u001b[0;34m*\u001b[0m\u001b[0margs\u001b[0m\u001b[0;34m,\u001b[0m \u001b[0;34m**\u001b[0m\u001b[0mkwargs\u001b[0m\u001b[0;34m)\u001b[0m\u001b[0;34m\u001b[0m\u001b[0;34m\u001b[0m\u001b[0m\n\u001b[0m\u001b[1;32m   1088\u001b[0m \u001b[0;34m\u001b[0m\u001b[0m\n\u001b[1;32m   1089\u001b[0m     def read_table(\n",
      "\u001b[0;32m~/projects/feature_store/venv/lib/python3.7/site-packages/sqlalchemy/engine/base.py\u001b[0m in \u001b[0;36mexecute\u001b[0;34m(self, object_, *multiparams, **params)\u001b[0m\n\u001b[1;32m    974\u001b[0m         \"\"\"\n\u001b[1;32m    975\u001b[0m         \u001b[0;32mif\u001b[0m \u001b[0misinstance\u001b[0m\u001b[0;34m(\u001b[0m\u001b[0mobject_\u001b[0m\u001b[0;34m,\u001b[0m \u001b[0mutil\u001b[0m\u001b[0;34m.\u001b[0m\u001b[0mstring_types\u001b[0m\u001b[0;34m[\u001b[0m\u001b[0;36m0\u001b[0m\u001b[0;34m]\u001b[0m\u001b[0;34m)\u001b[0m\u001b[0;34m:\u001b[0m\u001b[0;34m\u001b[0m\u001b[0;34m\u001b[0m\u001b[0m\n\u001b[0;32m--> 976\u001b[0;31m             \u001b[0;32mreturn\u001b[0m \u001b[0mself\u001b[0m\u001b[0;34m.\u001b[0m\u001b[0m_execute_text\u001b[0m\u001b[0;34m(\u001b[0m\u001b[0mobject_\u001b[0m\u001b[0;34m,\u001b[0m \u001b[0mmultiparams\u001b[0m\u001b[0;34m,\u001b[0m \u001b[0mparams\u001b[0m\u001b[0;34m)\u001b[0m\u001b[0;34m\u001b[0m\u001b[0;34m\u001b[0m\u001b[0m\n\u001b[0m\u001b[1;32m    977\u001b[0m         \u001b[0;32mtry\u001b[0m\u001b[0;34m:\u001b[0m\u001b[0;34m\u001b[0m\u001b[0;34m\u001b[0m\u001b[0m\n\u001b[1;32m    978\u001b[0m             \u001b[0mmeth\u001b[0m \u001b[0;34m=\u001b[0m \u001b[0mobject_\u001b[0m\u001b[0;34m.\u001b[0m\u001b[0m_execute_on_connection\u001b[0m\u001b[0;34m\u001b[0m\u001b[0;34m\u001b[0m\u001b[0m\n",
      "\u001b[0;32m~/projects/feature_store/venv/lib/python3.7/site-packages/sqlalchemy/engine/base.py\u001b[0m in \u001b[0;36m_execute_text\u001b[0;34m(self, statement, multiparams, params)\u001b[0m\n\u001b[1;32m   1149\u001b[0m             \u001b[0mparameters\u001b[0m\u001b[0;34m,\u001b[0m\u001b[0;34m\u001b[0m\u001b[0;34m\u001b[0m\u001b[0m\n\u001b[1;32m   1150\u001b[0m             \u001b[0mstatement\u001b[0m\u001b[0;34m,\u001b[0m\u001b[0;34m\u001b[0m\u001b[0;34m\u001b[0m\u001b[0m\n\u001b[0;32m-> 1151\u001b[0;31m             \u001b[0mparameters\u001b[0m\u001b[0;34m,\u001b[0m\u001b[0;34m\u001b[0m\u001b[0;34m\u001b[0m\u001b[0m\n\u001b[0m\u001b[1;32m   1152\u001b[0m         )\n\u001b[1;32m   1153\u001b[0m         \u001b[0;32mif\u001b[0m \u001b[0mself\u001b[0m\u001b[0;34m.\u001b[0m\u001b[0m_has_events\u001b[0m \u001b[0;32mor\u001b[0m \u001b[0mself\u001b[0m\u001b[0;34m.\u001b[0m\u001b[0mengine\u001b[0m\u001b[0;34m.\u001b[0m\u001b[0m_has_events\u001b[0m\u001b[0;34m:\u001b[0m\u001b[0;34m\u001b[0m\u001b[0;34m\u001b[0m\u001b[0m\n",
      "\u001b[0;32m~/projects/feature_store/venv/lib/python3.7/site-packages/sqlalchemy/engine/base.py\u001b[0m in \u001b[0;36m_execute_context\u001b[0;34m(self, dialect, constructor, statement, parameters, *args)\u001b[0m\n\u001b[1;32m   1176\u001b[0m         \u001b[0;32mexcept\u001b[0m \u001b[0mBaseException\u001b[0m \u001b[0;32mas\u001b[0m \u001b[0me\u001b[0m\u001b[0;34m:\u001b[0m\u001b[0;34m\u001b[0m\u001b[0;34m\u001b[0m\u001b[0m\n\u001b[1;32m   1177\u001b[0m             self._handle_dbapi_exception(\n\u001b[0;32m-> 1178\u001b[0;31m                 \u001b[0me\u001b[0m\u001b[0;34m,\u001b[0m \u001b[0mutil\u001b[0m\u001b[0;34m.\u001b[0m\u001b[0mtext_type\u001b[0m\u001b[0;34m(\u001b[0m\u001b[0mstatement\u001b[0m\u001b[0;34m)\u001b[0m\u001b[0;34m,\u001b[0m \u001b[0mparameters\u001b[0m\u001b[0;34m,\u001b[0m \u001b[0;32mNone\u001b[0m\u001b[0;34m,\u001b[0m \u001b[0;32mNone\u001b[0m\u001b[0;34m\u001b[0m\u001b[0;34m\u001b[0m\u001b[0m\n\u001b[0m\u001b[1;32m   1179\u001b[0m             )\n\u001b[1;32m   1180\u001b[0m \u001b[0;34m\u001b[0m\u001b[0m\n",
      "\u001b[0;32m~/projects/feature_store/venv/lib/python3.7/site-packages/sqlalchemy/engine/base.py\u001b[0m in \u001b[0;36m_handle_dbapi_exception\u001b[0;34m(self, e, statement, parameters, cursor, context)\u001b[0m\n\u001b[1;32m   1480\u001b[0m             \u001b[0;32melif\u001b[0m \u001b[0mshould_wrap\u001b[0m\u001b[0;34m:\u001b[0m\u001b[0;34m\u001b[0m\u001b[0;34m\u001b[0m\u001b[0m\n\u001b[1;32m   1481\u001b[0m                 util.raise_(\n\u001b[0;32m-> 1482\u001b[0;31m                     \u001b[0msqlalchemy_exception\u001b[0m\u001b[0;34m,\u001b[0m \u001b[0mwith_traceback\u001b[0m\u001b[0;34m=\u001b[0m\u001b[0mexc_info\u001b[0m\u001b[0;34m[\u001b[0m\u001b[0;36m2\u001b[0m\u001b[0;34m]\u001b[0m\u001b[0;34m,\u001b[0m \u001b[0mfrom_\u001b[0m\u001b[0;34m=\u001b[0m\u001b[0me\u001b[0m\u001b[0;34m\u001b[0m\u001b[0;34m\u001b[0m\u001b[0m\n\u001b[0m\u001b[1;32m   1483\u001b[0m                 )\n\u001b[1;32m   1484\u001b[0m             \u001b[0;32melse\u001b[0m\u001b[0;34m:\u001b[0m\u001b[0;34m\u001b[0m\u001b[0;34m\u001b[0m\u001b[0m\n",
      "\u001b[0;32m~/projects/feature_store/venv/lib/python3.7/site-packages/sqlalchemy/util/compat.py\u001b[0m in \u001b[0;36mraise_\u001b[0;34m(***failed resolving arguments***)\u001b[0m\n\u001b[1;32m    176\u001b[0m \u001b[0;34m\u001b[0m\u001b[0m\n\u001b[1;32m    177\u001b[0m         \u001b[0;32mtry\u001b[0m\u001b[0;34m:\u001b[0m\u001b[0;34m\u001b[0m\u001b[0;34m\u001b[0m\u001b[0m\n\u001b[0;32m--> 178\u001b[0;31m             \u001b[0;32mraise\u001b[0m \u001b[0mexception\u001b[0m\u001b[0;34m\u001b[0m\u001b[0;34m\u001b[0m\u001b[0m\n\u001b[0m\u001b[1;32m    179\u001b[0m         \u001b[0;32mfinally\u001b[0m\u001b[0;34m:\u001b[0m\u001b[0;34m\u001b[0m\u001b[0;34m\u001b[0m\u001b[0m\n\u001b[1;32m    180\u001b[0m             \u001b[0;31m# credit to\u001b[0m\u001b[0;34m\u001b[0m\u001b[0;34m\u001b[0m\u001b[0;34m\u001b[0m\u001b[0m\n",
      "\u001b[0;32m~/projects/feature_store/venv/lib/python3.7/site-packages/sqlalchemy/engine/base.py\u001b[0m in \u001b[0;36m_execute_context\u001b[0;34m(self, dialect, constructor, statement, parameters, *args)\u001b[0m\n\u001b[1;32m   1173\u001b[0m                 \u001b[0mconn\u001b[0m \u001b[0;34m=\u001b[0m \u001b[0mself\u001b[0m\u001b[0;34m.\u001b[0m\u001b[0m_revalidate_connection\u001b[0m\u001b[0;34m(\u001b[0m\u001b[0;34m)\u001b[0m\u001b[0;34m\u001b[0m\u001b[0;34m\u001b[0m\u001b[0m\n\u001b[1;32m   1174\u001b[0m \u001b[0;34m\u001b[0m\u001b[0m\n\u001b[0;32m-> 1175\u001b[0;31m             \u001b[0mcontext\u001b[0m \u001b[0;34m=\u001b[0m \u001b[0mconstructor\u001b[0m\u001b[0;34m(\u001b[0m\u001b[0mdialect\u001b[0m\u001b[0;34m,\u001b[0m \u001b[0mself\u001b[0m\u001b[0;34m,\u001b[0m \u001b[0mconn\u001b[0m\u001b[0;34m,\u001b[0m \u001b[0;34m*\u001b[0m\u001b[0margs\u001b[0m\u001b[0;34m)\u001b[0m\u001b[0;34m\u001b[0m\u001b[0;34m\u001b[0m\u001b[0m\n\u001b[0m\u001b[1;32m   1176\u001b[0m         \u001b[0;32mexcept\u001b[0m \u001b[0mBaseException\u001b[0m \u001b[0;32mas\u001b[0m \u001b[0me\u001b[0m\u001b[0;34m:\u001b[0m\u001b[0;34m\u001b[0m\u001b[0;34m\u001b[0m\u001b[0m\n\u001b[1;32m   1177\u001b[0m             self._handle_dbapi_exception(\n",
      "\u001b[0;32m~/projects/feature_store/venv/lib/python3.7/site-packages/sqlalchemy/engine/default.py\u001b[0m in \u001b[0;36m_init_statement\u001b[0;34m(cls, dialect, connection, dbapi_connection, statement, parameters)\u001b[0m\n\u001b[1;32m   1024\u001b[0m             \u001b[0mself\u001b[0m\u001b[0;34m.\u001b[0m\u001b[0mstatement\u001b[0m \u001b[0;34m=\u001b[0m \u001b[0mself\u001b[0m\u001b[0;34m.\u001b[0m\u001b[0municode_statement\u001b[0m \u001b[0;34m=\u001b[0m \u001b[0mstatement\u001b[0m\u001b[0;34m\u001b[0m\u001b[0;34m\u001b[0m\u001b[0m\n\u001b[1;32m   1025\u001b[0m \u001b[0;34m\u001b[0m\u001b[0m\n\u001b[0;32m-> 1026\u001b[0;31m         \u001b[0mself\u001b[0m\u001b[0;34m.\u001b[0m\u001b[0mcursor\u001b[0m \u001b[0;34m=\u001b[0m \u001b[0mself\u001b[0m\u001b[0;34m.\u001b[0m\u001b[0mcreate_cursor\u001b[0m\u001b[0;34m(\u001b[0m\u001b[0;34m)\u001b[0m\u001b[0;34m\u001b[0m\u001b[0;34m\u001b[0m\u001b[0m\n\u001b[0m\u001b[1;32m   1027\u001b[0m         \u001b[0;32mreturn\u001b[0m \u001b[0mself\u001b[0m\u001b[0;34m\u001b[0m\u001b[0;34m\u001b[0m\u001b[0m\n\u001b[1;32m   1028\u001b[0m \u001b[0;34m\u001b[0m\u001b[0m\n",
      "\u001b[0;32m~/projects/feature_store/venv/lib/python3.7/site-packages/sqlalchemy/engine/default.py\u001b[0m in \u001b[0;36mcreate_cursor\u001b[0;34m(self)\u001b[0m\n\u001b[1;32m   1157\u001b[0m         \u001b[0;32melse\u001b[0m\u001b[0;34m:\u001b[0m\u001b[0;34m\u001b[0m\u001b[0;34m\u001b[0m\u001b[0m\n\u001b[1;32m   1158\u001b[0m             \u001b[0mself\u001b[0m\u001b[0;34m.\u001b[0m\u001b[0m_is_server_side\u001b[0m \u001b[0;34m=\u001b[0m \u001b[0;32mFalse\u001b[0m\u001b[0;34m\u001b[0m\u001b[0;34m\u001b[0m\u001b[0m\n\u001b[0;32m-> 1159\u001b[0;31m             \u001b[0;32mreturn\u001b[0m \u001b[0mself\u001b[0m\u001b[0;34m.\u001b[0m\u001b[0m_dbapi_connection\u001b[0m\u001b[0;34m.\u001b[0m\u001b[0mcursor\u001b[0m\u001b[0;34m(\u001b[0m\u001b[0;34m)\u001b[0m\u001b[0;34m\u001b[0m\u001b[0;34m\u001b[0m\u001b[0m\n\u001b[0m\u001b[1;32m   1160\u001b[0m \u001b[0;34m\u001b[0m\u001b[0m\n\u001b[1;32m   1161\u001b[0m     \u001b[0;32mdef\u001b[0m \u001b[0mcreate_server_side_cursor\u001b[0m\u001b[0;34m(\u001b[0m\u001b[0mself\u001b[0m\u001b[0;34m)\u001b[0m\u001b[0;34m:\u001b[0m\u001b[0;34m\u001b[0m\u001b[0;34m\u001b[0m\u001b[0m\n",
      "\u001b[0;32m~/projects/feature_store/venv/lib/python3.7/site-packages/sqlalchemy/pool/base.py\u001b[0m in \u001b[0;36mcursor\u001b[0;34m(self, *args, **kwargs)\u001b[0m\n\u001b[1;32m    976\u001b[0m \u001b[0;34m\u001b[0m\u001b[0m\n\u001b[1;32m    977\u001b[0m         \"\"\"\n\u001b[0;32m--> 978\u001b[0;31m         \u001b[0;32mreturn\u001b[0m \u001b[0mself\u001b[0m\u001b[0;34m.\u001b[0m\u001b[0mconnection\u001b[0m\u001b[0;34m.\u001b[0m\u001b[0mcursor\u001b[0m\u001b[0;34m(\u001b[0m\u001b[0;34m*\u001b[0m\u001b[0margs\u001b[0m\u001b[0;34m,\u001b[0m \u001b[0;34m**\u001b[0m\u001b[0mkwargs\u001b[0m\u001b[0;34m)\u001b[0m\u001b[0;34m\u001b[0m\u001b[0;34m\u001b[0m\u001b[0m\n\u001b[0m\u001b[1;32m    979\u001b[0m \u001b[0;34m\u001b[0m\u001b[0m\n\u001b[1;32m    980\u001b[0m     \u001b[0;32mdef\u001b[0m \u001b[0m__getattr__\u001b[0m\u001b[0;34m(\u001b[0m\u001b[0mself\u001b[0m\u001b[0;34m,\u001b[0m \u001b[0mkey\u001b[0m\u001b[0;34m)\u001b[0m\u001b[0;34m:\u001b[0m\u001b[0;34m\u001b[0m\u001b[0;34m\u001b[0m\u001b[0m\n",
      "\u001b[0;31mStatementError\u001b[0m: (builtins.AttributeError) 'NoneType' object has no attribute 'cursor'\n[SQL: select nyl_agents_eol.agent_id, nyl_agents_eol.observation_time, nyl_agents_eol.prediction, agent1.feature_1, agent1.feature_2, agent1.feature_6, agent_acxiom1.zipcode, agent_acxiom1.num_household , agent_salestotal_sales1.total_sales , agent_salesmax_sales1.max_sales from nyl_agents_eol  left join agent agent1 on nyl_agents_eol.agent_id = agent1.agent_id and           agent1.effective_date = (select max(effective_date) from agent agent2 where agent2.agent_id = nyl_agents_eol.agent_id and agent2.effective_date <= nyl_agents_eol.observation_time) left join agent_acxiom agent_acxiom1 on nyl_agents_eol.agent_id = agent_acxiom1.agent_id and           agent_acxiom1.date = (select max(date) from agent_acxiom agent_acxiom2 where agent_acxiom2.agent_id = nyl_agents_eol.agent_id and agent_acxiom2.date <= nyl_agents_eol.observation_time) left join (select nyl_agents_eol.agent_id, nyl_agents_eol.observation_time, sum(agent_sales.amount) as total_sales from                   nyl_agents_eol join agent_sales on nyl_agents_eol.agent_id = agent_sales.agent_id and nyl_agents_eol.observation_time >= agent_sales.date group by                   nyl_agents_eol.agent_id, nyl_agents_eol.observation_time ) agent_salestotal_sales1 on                   nyl_agents_eol.agent_id = agent_salestotal_sales1.agent_id and nyl_agents_eol.observation_time = agent_salestotal_sales1.observation_time left join (select nyl_agents_eol.agent_id, nyl_agents_eol.observation_time, max(agent_sales.amount) as max_sales from                   nyl_agents_eol join agent_sales on nyl_agents_eol.agent_id = agent_sales.agent_id and nyl_agents_eol.observation_time >= agent_sales.date group by                   nyl_agents_eol.agent_id, nyl_agents_eol.observation_time ) agent_salesmax_sales1 on                   nyl_agents_eol.agent_id = agent_salesmax_sales1.agent_id and nyl_agents_eol.observation_time = agent_salesmax_sales1.observation_time]"
     ]
    }
   ],
   "source": [
    "features = {\"entity_set\": \"nyl_agents\",\n",
    "            \"target_entity\": \"agent\",\n",
    "            \"features\": {\n",
    "                         \"agent\": [\"feature_1\", \"feature_2\", \"feature_6\"],\n",
    "                         \"acxiom\": [\"zipcode\", \"num_household\"],\n",
    "                         \"agent_commission\": [\"total_sales\", \"max_sales\"]\n",
    "\n",
    "                    },\n",
    "            \"observations\": {\"type\": \"eol\", \"eol\": eol, \"data\": df}\n",
    "           \n",
    "            }\n",
    "training_df = get_training_df(features)\n",
    "training_df"
   ]
  },
  {
   "cell_type": "code",
   "execution_count": 8,
   "metadata": {},
   "outputs": [
    {
     "data": {
      "text/html": [
       "<div>\n",
       "<style scoped>\n",
       "    .dataframe tbody tr th:only-of-type {\n",
       "        vertical-align: middle;\n",
       "    }\n",
       "\n",
       "    .dataframe tbody tr th {\n",
       "        vertical-align: top;\n",
       "    }\n",
       "\n",
       "    .dataframe thead th {\n",
       "        text-align: right;\n",
       "    }\n",
       "</style>\n",
       "<table border=\"1\" class=\"dataframe\">\n",
       "  <thead>\n",
       "    <tr style=\"text-align: right;\">\n",
       "      <th></th>\n",
       "      <th>agent_id</th>\n",
       "      <th>feature_1</th>\n",
       "      <th>feature_2</th>\n",
       "      <th>feature_6</th>\n",
       "      <th>zipcode</th>\n",
       "      <th>num_household</th>\n",
       "      <th>total_sales</th>\n",
       "      <th>max_sales</th>\n",
       "    </tr>\n",
       "  </thead>\n",
       "  <tbody>\n",
       "    <tr>\n",
       "      <th>0</th>\n",
       "      <td>1001</td>\n",
       "      <td>8.676654</td>\n",
       "      <td>6.617975</td>\n",
       "      <td>3.793197</td>\n",
       "      <td>0.189578</td>\n",
       "      <td>0.180422</td>\n",
       "      <td>7763.183214</td>\n",
       "      <td>99.683471</td>\n",
       "    </tr>\n",
       "    <tr>\n",
       "      <th>1</th>\n",
       "      <td>1002</td>\n",
       "      <td>0.619986</td>\n",
       "      <td>1.829505</td>\n",
       "      <td>4.545613</td>\n",
       "      <td>8.482659</td>\n",
       "      <td>8.792610</td>\n",
       "      <td>7620.647214</td>\n",
       "      <td>99.829563</td>\n",
       "    </tr>\n",
       "    <tr>\n",
       "      <th>2</th>\n",
       "      <td>1003</td>\n",
       "      <td>3.943603</td>\n",
       "      <td>5.452559</td>\n",
       "      <td>2.133420</td>\n",
       "      <td>8.535475</td>\n",
       "      <td>2.040803</td>\n",
       "      <td>8194.756111</td>\n",
       "      <td>99.406206</td>\n",
       "    </tr>\n",
       "    <tr>\n",
       "      <th>3</th>\n",
       "      <td>1004</td>\n",
       "      <td>0.795607</td>\n",
       "      <td>6.487110</td>\n",
       "      <td>0.468483</td>\n",
       "      <td>3.698678</td>\n",
       "      <td>5.276331</td>\n",
       "      <td>7870.330874</td>\n",
       "      <td>99.753397</td>\n",
       "    </tr>\n",
       "    <tr>\n",
       "      <th>4</th>\n",
       "      <td>1005</td>\n",
       "      <td>5.625281</td>\n",
       "      <td>2.807297</td>\n",
       "      <td>5.041419</td>\n",
       "      <td>9.196020</td>\n",
       "      <td>3.594730</td>\n",
       "      <td>8326.790783</td>\n",
       "      <td>99.512503</td>\n",
       "    </tr>\n",
       "  </tbody>\n",
       "</table>\n",
       "</div>"
      ],
      "text/plain": [
       "   agent_id  feature_1  feature_2  feature_6   zipcode  num_household  \\\n",
       "0      1001   8.676654   6.617975   3.793197  0.189578       0.180422   \n",
       "1      1002   0.619986   1.829505   4.545613  8.482659       8.792610   \n",
       "2      1003   3.943603   5.452559   2.133420  8.535475       2.040803   \n",
       "3      1004   0.795607   6.487110   0.468483  3.698678       5.276331   \n",
       "4      1005   5.625281   2.807297   5.041419  9.196020       3.594730   \n",
       "\n",
       "   total_sales  max_sales  \n",
       "0  7763.183214  99.683471  \n",
       "1  7620.647214  99.829563  \n",
       "2  8194.756111  99.406206  \n",
       "3  7870.330874  99.753397  \n",
       "4  8326.790783  99.512503  "
      ]
     },
     "execution_count": 8,
     "metadata": {},
     "output_type": "execute_result"
    }
   ],
   "source": [
    "prediction_df = get_prediction_df(features)\n",
    "prediction_df\n"
   ]
  },
  {
   "cell_type": "code",
   "execution_count": 9,
   "metadata": {},
   "outputs": [],
   "source": [
    "features2 = {\"entity_set\": \"nyl_agents\",\n",
    "            \"target_entity\": \"agent_commision\",\n",
    "            \"features\": {\n",
    "                         \"agent\": [\"feature_1\", \"feature_2\", \"feature_6\"],\n",
    "                         \"acxiom\": [\"zipcode\", \"num_household\"],\n",
    "                         \"agent_commission\": [\"amount\", \"date\", \"feature_2\", \"feature_3\", \"total_sales\", \"max_sales\"]\n",
    "\n",
    "                    },\n",
    "            \"observations\": {\"type\": \"event\"}\n",
    "            }\n",
    "#training_df = get_training_df(features\n",
    "#training_df"
   ]
  },
  {
   "cell_type": "code",
   "execution_count": 10,
   "metadata": {},
   "outputs": [],
   "source": [
    "from ludwig.api import LudwigModel"
   ]
  },
  {
   "cell_type": "code",
   "execution_count": 20,
   "metadata": {},
   "outputs": [
    {
     "name": "stdout",
     "output_type": "stream",
     "text": [
      "int64\n",
      "datetime64[ns]\n",
      "float64\n",
      "float64\n",
      "float64\n",
      "float64\n",
      "float64\n",
      "float64\n",
      "float64\n"
     ]
    }
   ],
   "source": [
    "generate_base_model_definition(features)"
   ]
  },
  {
   "cell_type": "code",
   "execution_count": null,
   "metadata": {},
   "outputs": [],
   "source": [
    "# %load model_definition.yaml\n",
    "input_features:\n",
    "- name: agent_id\n",
    "  type: numerical\n",
    "- name: observation_time\n",
    "  type: numerical\n",
    "- name: feature_1\n",
    "  type: numerical\n",
    "- name: feature_2\n",
    "  type: numerical\n",
    "- name: feature_6\n",
    "  type: numerical\n",
    "- name: zipcode\n",
    "  type: numerical\n",
    "- name: num_household\n",
    "  type: numerical\n",
    "- name: total_sales\n",
    "  type: numerical\n",
    "- name: max_sales\n",
    "  type: numerical\n",
    "output_features:\n",
    "- name: prediction\n",
    "  type: numerical\n"
   ]
  },
  {
   "cell_type": "code",
   "execution_count": 26,
   "metadata": {},
   "outputs": [
    {
     "name": "stdout",
     "output_type": "stream",
     "text": [
      "Overwriting model_definition.yaml\n"
     ]
    }
   ],
   "source": [
    "%%writefile model_definition.yaml\n",
    "input_features:\n",
    "- name: agent_id\n",
    "  type: numerical\n",
    "- name: feature_1\n",
    "  type: numerical\n",
    "- name: feature_2\n",
    "  type: numerical\n",
    "- name: feature_6\n",
    "  type: numerical\n",
    "- name: zipcode\n",
    "  type: numerical\n",
    "- name: num_household\n",
    "  type: numerical\n",
    "- name: total_sales\n",
    "  type: numerical\n",
    "- name: max_sales\n",
    "  type: numerical\n",
    "output_features:\n",
    "- name: prediction\n",
    "  type: numerical"
   ]
  },
  {
   "cell_type": "code",
   "execution_count": 27,
   "metadata": {},
   "outputs": [],
   "source": [
    "ludwig_model = LudwigModel(model_definition_file='model_definition.yaml')\n",
    "train_status = ludwig_model.train(data_df=training_df)"
   ]
  },
  {
   "cell_type": "code",
   "execution_count": null,
   "metadata": {},
   "outputs": [],
   "source": []
  }
 ],
 "metadata": {
  "kernelspec": {
   "display_name": "Python 3",
   "language": "python",
   "name": "python3"
  },
  "language_info": {
   "codemirror_mode": {
    "name": "ipython",
    "version": 3
   },
   "file_extension": ".py",
   "mimetype": "text/x-python",
   "name": "python",
   "nbconvert_exporter": "python",
   "pygments_lexer": "ipython3",
   "version": "3.7.4"
  }
 },
 "nbformat": 4,
 "nbformat_minor": 2
}
