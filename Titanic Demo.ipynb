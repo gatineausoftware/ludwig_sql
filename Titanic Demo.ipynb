{
 "cells": [
  {
   "cell_type": "code",
   "execution_count": null,
   "metadata": {},
   "outputs": [],
   "source": [
    "import pandas as pd\n",
    "from numpy import dtype\n",
    "from ludwig.api import LudwigModel\n",
    "from utils import get_training_data_set, get_model_definition, generate_base_model_definition\n",
    "from new_api import (add_entity, create_new_entity_set, add_aggregation_features, get_training_df, get_prediction_df, \n",
    "add_entity_df, list_features)\n"
   ]
  },
  {
   "cell_type": "code",
   "execution_count": 1,
   "metadata": {},
   "outputs": [
    {
     "name": "stdout",
     "output_type": "stream",
     "text": [
      ",                         df_example.py             table_example.py\r\n",
      "Dataframe API.ipynb       df_example2.py            table_example2.py\r\n",
      "Demo 1.ipynb              feature_store.py          test1.py\r\n",
      "Demo 2.ipynb              model creation demo.ipynb test2.py\r\n",
      "Dockerfile                model_definition.yaml     \u001b[31mtitanic.csv\u001b[m\u001b[m\r\n",
      "README.md                 new_api.py                utils.py\r\n",
      "Titanic Demo.ipynb        requirements.txt          \u001b[34mvenv\u001b[m\u001b[m\r\n",
      "\u001b[34m__pycache__\u001b[m\u001b[m               \u001b[34msql-scripts\u001b[m\u001b[m\r\n"
     ]
    }
   ],
   "source": [
    "!ls"
   ]
  },
  {
   "cell_type": "code",
   "execution_count": null,
   "metadata": {},
   "outputs": [],
   "source": [
    "generate_base_model_definition(df, target='Survived')"
   ]
  },
  {
   "cell_type": "code",
   "execution_count": null,
   "metadata": {},
   "outputs": [],
   "source": [
    "%load model_definition.yaml\n",
    "input_features:\n",
    "- name: Id\n",
    "  type: numerical\n",
    "- name: Class\n",
    "  type: numerical\n",
    "- name: Name\n",
    "  type: category\n",
    "- name: Sex\n",
    "  type: category\n",
    "- name: Age\n",
    "  type: numerical\n",
    "- name: SibSp\n",
    "  type: numerical\n",
    "- name: Parch\n",
    "  type: numerical\n",
    "- name: Ticket\n",
    "  type: category\n",
    "- name: Fare\n",
    "  type: numerical\n",
    "- name: Cabin\n",
    "  type: category\n",
    "- name: Embarked\n",
    "  type: category\n",
    "output_features:\n",
    "- name: Survived\n",
    "  type: binary\n"
   ]
  },
  {
   "cell_type": "markdown",
   "metadata": {},
   "source": [
    "## Iterate on model in cell below.  Results are written to a new directory every time"
   ]
  },
  {
   "cell_type": "code",
   "execution_count": 32,
   "metadata": {},
   "outputs": [
    {
     "name": "stdout",
     "output_type": "stream",
     "text": [
      "Overwriting model_definition.yaml\n"
     ]
    }
   ],
   "source": [
    "%%writefile model_definition.yaml\n",
    "input_features:\n",
    "- name: Class\n",
    "  type: numerical\n",
    "- name: Sex\n",
    "  type: category\n",
    "- name: Age\n",
    "  type: numerical\n",
    "  preprocessing:\n",
    "          missing_value_strategy: fill_with_mean\n",
    "          normalization: zscore\n",
    "- name: SibSp\n",
    "  type: numerical\n",
    "- name: Parch\n",
    "  type: numerical\n",
    "- name: Fare\n",
    "  type: numerical\n",
    "- name: Cabin\n",
    "  type: category\n",
    "output_features:\n",
    "- name: Survived\n",
    "  type: binary\n",
    "  num_fc_layers: 2\n",
    "  fc_size: 128\n",
    "training:\n",
    "    batch_size: 128\n",
    "    epochs: 200\n"
   ]
  },
  {
   "cell_type": "code",
   "execution_count": 29,
   "metadata": {},
   "outputs": [],
   "source": [
    "ludwig_model = LudwigModel({}, model_definition_file='model_definition.yaml')\n",
    "train_status = ludwig_model.train(data_df=df)"
   ]
  },
  {
   "cell_type": "code",
   "execution_count": 33,
   "metadata": {},
   "outputs": [
    {
     "data": {
      "text/plain": [
       "0.8024691358024691"
      ]
     },
     "execution_count": 33,
     "metadata": {},
     "output_type": "execute_result"
    }
   ],
   "source": [
    "max(train_status['validation']['combined']['accuracy'])"
   ]
  },
  {
   "cell_type": "code",
   "execution_count": 34,
   "metadata": {},
   "outputs": [
    {
     "name": "stdout",
     "output_type": "stream",
     "text": [
      "\u001b[34mapi_experiment_run_0\u001b[m\u001b[m  \u001b[34mapi_experiment_run_13\u001b[m\u001b[m \u001b[34mapi_experiment_run_6\u001b[m\u001b[m\r\n",
      "\u001b[34mapi_experiment_run_1\u001b[m\u001b[m  \u001b[34mapi_experiment_run_2\u001b[m\u001b[m  \u001b[34mapi_experiment_run_7\u001b[m\u001b[m\r\n",
      "\u001b[34mapi_experiment_run_10\u001b[m\u001b[m \u001b[34mapi_experiment_run_3\u001b[m\u001b[m  \u001b[34mapi_experiment_run_8\u001b[m\u001b[m\r\n",
      "\u001b[34mapi_experiment_run_11\u001b[m\u001b[m \u001b[34mapi_experiment_run_4\u001b[m\u001b[m  \u001b[34mapi_experiment_run_9\u001b[m\u001b[m\r\n",
      "\u001b[34mapi_experiment_run_12\u001b[m\u001b[m \u001b[34mapi_experiment_run_5\u001b[m\u001b[m\r\n"
     ]
    }
   ],
   "source": [
    "!ls results"
   ]
  },
  {
   "cell_type": "code",
   "execution_count": null,
   "metadata": {},
   "outputs": [],
   "source": [
    "deploy_model_to_fastscore(ludwig_model)\n",
    "#saves model to tmp directory (or locates experiement in results directory) and package as tar file\n",
    "#generates a model conformance python file (same every time?) that just unpacks tar file\n",
    "#using input features and output features generate schema definition file\n",
    "#upload everything to fastscore using python sdk\n",
    "#model_definition,yaml gets tagged and stored....now we can automate re-training model on new data and we can guarantee that model can be recreated.\n"
   ]
  }
 ],
 "metadata": {
  "kernelspec": {
   "display_name": "Python 3",
   "language": "python",
   "name": "python3"
  },
  "language_info": {
   "codemirror_mode": {
    "name": "ipython",
    "version": 3
   },
   "file_extension": ".py",
   "mimetype": "text/x-python",
   "name": "python",
   "nbconvert_exporter": "python",
   "pygments_lexer": "ipython3",
   "version": "3.7.4"
  }
 },
 "nbformat": 4,
 "nbformat_minor": 2
}
